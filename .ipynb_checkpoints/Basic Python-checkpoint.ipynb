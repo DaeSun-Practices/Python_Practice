{
 "cells": [
  {
   "cell_type": "markdown",
   "metadata": {},
   "source": [
    "# python practice"
   ]
  },
  {
   "cell_type": "markdown",
   "metadata": {},
   "source": [
    "## 1. \"print\" function_Hello world!"
   ]
  },
  {
   "cell_type": "code",
   "execution_count": 1,
   "metadata": {},
   "outputs": [
    {
     "name": "stdout",
     "output_type": "stream",
     "text": [
      "Hello world!\n",
      "Hello python!\n"
     ]
    }
   ],
   "source": [
    "print(\"Hello world!\")\n",
    "print(\"Hello python!\")"
   ]
  },
  {
   "cell_type": "markdown",
   "metadata": {},
   "source": [
    "## 2. variable & datatype"
   ]
  },
  {
   "cell_type": "code",
   "execution_count": 2,
   "metadata": {},
   "outputs": [
    {
     "name": "stdout",
     "output_type": "stream",
     "text": [
      "There once was a man named George, \n",
      "he was 70 years old.\n",
      "He really liked the name George, \n",
      "but didn`t like being 70.\n",
      "There once was a man named Tom, \n",
      "he was 100 years old.\n",
      "He really liked the name Tom, \n",
      "but didn`t like being 100.\n"
     ]
    }
   ],
   "source": [
    "\"\"\"\n",
    "print(\"There once was a man named George, \")\n",
    "print(\"he was 70 years old.\")\n",
    "print(\"He really liked the name George, \")\n",
    "print(\"but didn`t like being 70.\")\n",
    "\"\"\"\n",
    "\n",
    "charactor_name = \"George\"\n",
    "charactor_age = \"70\"\n",
    "print(\"There once was a man named \" + charactor_name + \", \")\n",
    "print(\"he was \" + charactor_age + \" years old.\")\n",
    "print(\"He really liked the name \"+ charactor_name + \", \")\n",
    "print(\"but didn`t like being \" + charactor_age + \".\")\n",
    "\n",
    "charactor_name = \"Tom\"\n",
    "charactor_age = \"100\"\n",
    "print(\"There once was a man named \" + charactor_name + \", \")\n",
    "print(\"he was \" + charactor_age + \" years old.\")\n",
    "print(\"He really liked the name \"+ charactor_name + \", \")\n",
    "print(\"but didn`t like being \" + charactor_age + \".\")"
   ]
  },
  {
   "cell_type": "markdown",
   "metadata": {},
   "source": [
    "## 3. working with strings"
   ]
  },
  {
   "cell_type": "code",
   "execution_count": 3,
   "metadata": {},
   "outputs": [
    {
     "name": "stdout",
     "output_type": "stream",
     "text": [
      "Korea Academy\n",
      "Korea\n",
      "Academy\n",
      "Korea\"Academy\n",
      "Korea\\Academy\n",
      "\n",
      "Seoul Academy\n",
      "Seoul Academy is yeonsei\n",
      "seoul academy\n",
      "SEOUL ACADEMY\n",
      "False\n",
      "True\n",
      "\n",
      "13\n",
      "S\n",
      "y\n",
      "0\n",
      "1\n",
      "7\n",
      "Yeonsei Academy\n"
     ]
    }
   ],
   "source": [
    "print(\"Korea Academy\")\n",
    "print(\"Korea\\nAcademy\")\n",
    "print(\"Korea\\\"Academy\")\n",
    "print(\"Korea\\Academy\")\n",
    "\n",
    "print()\n",
    "\n",
    "pharse = \"Seoul Academy\"\n",
    "print(pharse)\n",
    "print(pharse + \" is yeonsei\")\n",
    "print(pharse.lower())\n",
    "print(pharse.upper())\n",
    "print(pharse.isupper())\n",
    "print(pharse.upper().isupper())\n",
    "\n",
    "print()\n",
    "\n",
    "print(len(pharse))\n",
    "print(pharse[0])\n",
    "print(pharse[12])\n",
    "print(pharse.index(\"S\"))\n",
    "print(pharse.index(\"e\")) # returns first index for duplicated letters\n",
    "print(pharse.index(\"cade\"))\n",
    "print(pharse.replace(\"Seoul\", \"Yeonsei\"))"
   ]
  },
  {
   "cell_type": "markdown",
   "metadata": {},
   "source": [
    "## 4. working with Numbers"
   ]
  },
  {
   "cell_type": "code",
   "execution_count": 4,
   "metadata": {},
   "outputs": [
    {
     "name": "stdout",
     "output_type": "stream",
     "text": [
      "2\n",
      "3.14\n",
      "-3.14\n",
      "8\n",
      "6.140000000000001\n",
      "35\n",
      "1\n",
      "5\n",
      "5 is my favorite number\n",
      "5\n",
      "-125\n",
      "4096\n",
      "6\n",
      "4\n",
      "3\n",
      "4\n"
     ]
    }
   ],
   "source": [
    "print(2)\n",
    "print(3.14)\n",
    "print(-3.14)\n",
    "print(3+5)\n",
    "print(3+3.14)\n",
    "print((3+4)*5) # change order\n",
    "print(10%3) # moduler\n",
    "\n",
    "my_number = 5\n",
    "print(my_number)\n",
    "print(str(my_number) + \" is my favorite number\")\n",
    "\n",
    "my_number = -5\n",
    "print(abs(my_number))\n",
    "print(pow(my_number, 3))\n",
    "print(pow(4, 6))\n",
    "print(max(4,6))\n",
    "print(min(4,6))\n",
    "print(round(3.2))\n",
    "print(round(3.7))"
   ]
  },
  {
   "cell_type": "code",
   "execution_count": 5,
   "metadata": {},
   "outputs": [
    {
     "name": "stdout",
     "output_type": "stream",
     "text": [
      "3\n",
      "4\n",
      "6.0\n"
     ]
    }
   ],
   "source": [
    "from math import *\n",
    "print(floor(3.7))\n",
    "print(ceil(3.001))\n",
    "print(sqrt(36))\n",
    "\n",
    "# \"math\" is module"
   ]
  },
  {
   "cell_type": "markdown",
   "metadata": {},
   "source": [
    "## 5. Getting inputs from user"
   ]
  },
  {
   "cell_type": "code",
   "execution_count": 9,
   "metadata": {},
   "outputs": [
    {
     "name": "stdout",
     "output_type": "stream",
     "text": [
      "Enter your name: Tom\n",
      "Enter your age: 45\n",
      "I will kill you Tom when you are 45.\n"
     ]
    }
   ],
   "source": [
    "User_name = input(\"Enter your name: \")  \n",
    "User_age = input(\"Enter your age: \")  \n",
    "\n",
    "print(\"I will kill you \"+User_name+ \" when you are \" + User_age + \".\")"
   ]
  },
  {
   "cell_type": "markdown",
   "metadata": {},
   "source": [
    "## 6. Buliding a Basic Caculator"
   ]
  },
  {
   "cell_type": "code",
   "execution_count": 15,
   "metadata": {},
   "outputs": [
    {
     "name": "stdout",
     "output_type": "stream",
     "text": [
      "Enter a number: 321.23\n",
      "Enter another number: 123.4\n",
      "321.23123.4\n",
      "Add: 444.63\n"
     ]
    }
   ],
   "source": [
    "num1 = input(\"Enter a number: \")\n",
    "num2 = input(\"Enter another number: \")\n",
    "result1 = num1 + num2\n",
    "print(result1)\n",
    "# result2 = int(num1) + int(num2)\n",
    "result2 = float(num1) + float(num2)\n",
    "print(\"Add: \" + str(result2))"
   ]
  },
  {
   "cell_type": "markdown",
   "metadata": {},
   "source": [
    "## 7. Mad Libs Games"
   ]
  },
  {
   "cell_type": "code",
   "execution_count": 16,
   "metadata": {},
   "outputs": [
    {
     "name": "stdout",
     "output_type": "stream",
     "text": [
      "Enter a color: Red\n",
      "Enter a plural_noun: people\n",
      "Enter a celebrityr: SongDaeSun\n",
      "Roses are Red\n",
      "people are Blue\n",
      "I love SongDaeSun\n"
     ]
    }
   ],
   "source": [
    "\"\"\"\n",
    "print(\"Roses are Red\")\n",
    "print(\"Violets are Blue\")\n",
    "print(\"I love you\")\n",
    "\n",
    "print(\"Roses are {color}\")\n",
    "print(\"{plural noun} are Blue\")\n",
    "print(\"I love {celebrity}\")\n",
    "\"\"\"\n",
    "\n",
    "user_color = input(\"Enter a color: \")\n",
    "user_plural_noun = input(\"Enter a plural_noun: \")\n",
    "user_celebrity = input(\"Enter a celebrityr: \")\n",
    "\n",
    "print()\n",
    "print(\"Roses are \" + user_color)\n",
    "print(user_plural_noun + \" are Blue\")\n",
    "print(\"I love \" + user_celebrity)"
   ]
  },
  {
   "cell_type": "markdown",
   "metadata": {},
   "source": [
    "## 8. Lists"
   ]
  },
  {
   "cell_type": "code",
   "execution_count": 25,
   "metadata": {},
   "outputs": [
    {
     "name": "stdout",
     "output_type": "stream",
     "text": [
      "['Kevin', 'DaeSun', 'Taehoon', 'Oscar', 'Toby']\n",
      "Kevin\n",
      "Toby\n",
      "Oscar\n",
      "['DaeSun', 'Taehoon', 'Oscar', 'Toby']\n",
      "['DaeSun', 'Taehoon']\n",
      "Mike\n"
     ]
    }
   ],
   "source": [
    "friends = [\"Kevin\", \"DaeSun\", \"Taehoon\", \"Oscar\", \"Toby\"]\n",
    "extra = [\"Kevin\", 3, True] # This is Possible!!!!\n",
    "\n",
    "\n",
    "\n",
    "print(friends)\n",
    "print(friends[0])\n",
    "print(friends[-1])\n",
    "print(friends[-2])\n",
    "print(friends[1:])\n",
    "print(friends[1:3]) # access index 1, 2\n",
    "\n",
    "friends[1] = \"Mike\"\n",
    "print(friends[1])"
   ]
  },
  {
   "cell_type": "markdown",
   "metadata": {},
   "source": [
    "## 9. List Functions"
   ]
  },
  {
   "cell_type": "code",
   "execution_count": 41,
   "metadata": {},
   "outputs": [
    {
     "name": "stdout",
     "output_type": "stream",
     "text": [
      "['Kevin', 'DaeSun', 'Taehoon', 'Oscar', 'Toby']\n",
      "['Kevin', 'DaeSun', 'Taehoon', 'Oscar', 'Toby', 4, 8, 15, 16, 23, 42]\n",
      "['Kevin', 'DaeSun', 'Taehoon', 'Oscar', 'Toby', 'Creed']\n",
      "['Kevin', 'Kelly', 'DaeSun', 'Taehoon', 'Oscar', 'Toby', 'Creed']\n",
      "['Kevin', 'Kelly', 'DaeSun', 'Taehoon', 'Toby', 'Creed']\n",
      "['Kevin', 'Kelly', 'DaeSun', 'Taehoon', 'Toby']\n",
      "\n",
      "1\n",
      "2\n",
      "['DaeSun', 'DaeSun', 'Kelly', 'Kevin', 'Taehoon', 'Toby']\n",
      "['Toby', 'Taehoon', 'Kevin', 'Kelly', 'DaeSun', 'DaeSun']\n",
      "['Toby', 'Taehoon', 'Kevin', 'Kelly', 'DaeSun', 'DaeSun']\n",
      "[]\n"
     ]
    }
   ],
   "source": [
    "lucky_numbers = [4, 8, 15, 16, 23, 42]\n",
    "friends = [\"Kevin\", \"DaeSun\", \"Taehoon\", \"Oscar\", \"Toby\"]\n",
    "print(friends)\n",
    "\n",
    "friends.extend(lucky_numbers)\n",
    "print(friends)\n",
    "\n",
    "friends = friends[0:5]\n",
    "friends.append(\"Creed\")\n",
    "print(friends)\n",
    "\n",
    "friends.insert(1, \"Kelly\")\n",
    "print(friends)\n",
    "\n",
    "friends.remove(\"Oscar\")\n",
    "print(friends)\n",
    "\n",
    "friends.pop()\n",
    "print(friends)\n",
    "\n",
    "print()\n",
    "print(friends.index(\"Kelly\"))\n",
    "\n",
    "friends.insert(2, \"DaeSun\")\n",
    "print(friends.count(\"DaeSun\"))\n",
    "\n",
    "friends.sort()\n",
    "print(friends)\n",
    "\n",
    "friends.reverse()\n",
    "print(friends)\n",
    "\n",
    "friends2 = friends.copy()\n",
    "print(friends2)\n",
    "\n",
    "friends.clear()\n",
    "print(friends)"
   ]
  },
  {
   "cell_type": "markdown",
   "metadata": {},
   "source": [
    "## 10.Tuples"
   ]
  },
  {
   "cell_type": "code",
   "execution_count": 46,
   "metadata": {},
   "outputs": [
    {
     "name": "stdout",
     "output_type": "stream",
     "text": [
      "(4, 5)\n",
      "4\n"
     ]
    }
   ],
   "source": [
    "coordinates = (4, 5) # It can not be changed!\n",
    "print(coordinates) # We can access but not change\n",
    "print(coordinates[0])\n",
    "#coordinates[0]=9  -> ERROR!!!!abs"
   ]
  },
  {
   "cell_type": "code",
   "execution_count": 48,
   "metadata": {},
   "outputs": [
    {
     "name": "stdout",
     "output_type": "stream",
     "text": [
      "[(8, 9), (6, 7), (80, 34)]\n"
     ]
    }
   ],
   "source": [
    "coordinates = [(4, 5), (6, 7), (80, 34)]\n",
    "coordinates[0] = (8, 9)\n",
    "print(coordinates)"
   ]
  },
  {
   "cell_type": "markdown",
   "metadata": {},
   "source": [
    "## 11. Functions"
   ]
  },
  {
   "cell_type": "code",
   "execution_count": 55,
   "metadata": {},
   "outputs": [
    {
     "name": "stdout",
     "output_type": "stream",
     "text": [
      "Top\n",
      "Hello User\n",
      "Hello DaeSun\n",
      "you are 21\n",
      "Bottom\n"
     ]
    }
   ],
   "source": [
    "def sayhi() :#not say_hi \n",
    "    print(\"Hello User\")\n",
    "    \n",
    "def sayName(name, age):\n",
    "    print(\"Hello \"+name)\n",
    "    print(\"you are \"+age)\n",
    "    \n",
    "print(\"Top\")\n",
    "sayhi() #execute the function\n",
    "sayName(\"DaeSun\",\"21\")\n",
    "print(\"Bottom\")"
   ]
  },
  {
   "cell_type": "markdown",
   "metadata": {},
   "source": [
    "## 12. Return Statement"
   ]
  },
  {
   "cell_type": "code",
   "execution_count": 58,
   "metadata": {},
   "outputs": [
    {
     "name": "stdout",
     "output_type": "stream",
     "text": [
      "216\n"
     ]
    }
   ],
   "source": [
    "def cube(num):\n",
    "    return num*num*num #return statement break function\n",
    "\n",
    "result = cube(6)\n",
    "print(result)"
   ]
  },
  {
   "cell_type": "markdown",
   "metadata": {},
   "source": [
    "## 13. If Statement"
   ]
  },
  {
   "cell_type": "code",
   "execution_count": 65,
   "metadata": {},
   "outputs": [
    {
     "name": "stdout",
     "output_type": "stream",
     "text": [
      "you are male or is_tall or both\n",
      "you are a short male\n"
     ]
    }
   ],
   "source": [
    "is_male = True\n",
    "is_tall = True\n",
    "\n",
    "if is_male or is_tall:\n",
    "    print(\"you are male or is_tall or both\")\n",
    "else:\n",
    "    print(\"you are neither male nor tall\")\n",
    "    \n",
    "is_tall = False\n",
    "    \n",
    "if is_male and is_tall:\n",
    "    print(\"you are a tall male\")\n",
    "elif(is_male and not(is_tall)):\n",
    "    print(\"you are a short male\")\n",
    "else:\n",
    "    print(\"you are either not male or not tall or both\")"
   ]
  },
  {
   "cell_type": "markdown",
   "metadata": {},
   "source": [
    "## 14. If Statement & Comparisons"
   ]
  },
  {
   "cell_type": "code",
   "execution_count": 69,
   "metadata": {},
   "outputs": [
    {
     "name": "stdout",
     "output_type": "stream",
     "text": [
      "6\n",
      "40\n",
      "300\n"
     ]
    }
   ],
   "source": [
    "def maxNum(num1, num2, num3):\n",
    "    if num1 >= num2 and num1 >= num3:\n",
    "        return num1\n",
    "    elif num2 >= num1 and num2 >= num3:\n",
    "        return num2\n",
    "    else:\n",
    "        return num3\n",
    "    \n",
    "print(maxNum(4, 5, 6))\n",
    "print(maxNum(4, 40, 6))\n",
    "print(maxNum(300, 40, 6))"
   ]
  },
  {
   "cell_type": "markdown",
   "metadata": {},
   "source": [
    "## 15. Buliding  a Better Calculator"
   ]
  },
  {
   "cell_type": "code",
   "execution_count": 73,
   "metadata": {},
   "outputs": [
    {
     "name": "stdout",
     "output_type": "stream",
     "text": [
      "Enter first number: 34\n",
      "Enter a operator: ;\n",
      "Enter second number: 23\n",
      "Invalid Operator\n"
     ]
    }
   ],
   "source": [
    "num1 = float(input(\"Enter first number: \"))\n",
    "operator = input(\"Enter a operator: \")\n",
    "num2 = float(input(\"Enter second number: \"))\n",
    "\n",
    "if operator == \"+\":\n",
    "    print(num1+num2)\n",
    "elif operator == \"-\":\n",
    "    print(num1-num2)\n",
    "elif operator == \"*\":\n",
    "    print(num1*num2)\n",
    "elif operator == \"/\":\n",
    "    print(num1/num2)\n",
    "elif operator == \"%\":\n",
    "    print(num1%num2)\n",
    "else:\n",
    "    print(\"Invalid Operator\")"
   ]
  },
  {
   "cell_type": "markdown",
   "metadata": {},
   "source": [
    "## 16. Dictionaries"
   ]
  },
  {
   "cell_type": "code",
   "execution_count": 78,
   "metadata": {},
   "outputs": [
    {
     "name": "stdout",
     "output_type": "stream",
     "text": [
      "February\n",
      "March\n",
      "None\n",
      "Not a valid key\n",
      "None\n"
     ]
    }
   ],
   "source": [
    "monthConversions = { # Key: value,\n",
    "    \"Jan\": \"January\",\n",
    "    \"Feb\": \"February\",\n",
    "    \"Mar\": \"March\",\n",
    "    10: \"DaeSun\",\n",
    "}\n",
    "\n",
    "print(monthConversions[\"Feb\"])\n",
    "print(monthConversions.get(\"Mar\"))\n",
    "print(monthConversions.get(\"Luv\")) # no key in monthConversions\n",
    "print(monthConversions.get(\"Luv\", \"Not a valid key\")) "
   ]
  },
  {
   "cell_type": "markdown",
   "metadata": {},
   "source": [
    "## 17. While Loop"
   ]
  },
  {
   "cell_type": "code",
   "execution_count": 3,
   "metadata": {},
   "outputs": [
    {
     "name": "stdout",
     "output_type": "stream",
     "text": [
      "1\n",
      "2\n",
      "3\n",
      "4\n",
      "5\n",
      "6\n",
      "7\n",
      "8\n",
      "9\n",
      "10\n",
      "Done with loop\n"
     ]
    }
   ],
   "source": [
    "i = 1\n",
    "# while condition\n",
    "while i <= 10:\n",
    "    print(i)\n",
    "    i += 1\n",
    "print(\"Done with loop\")"
   ]
  },
  {
   "cell_type": "markdown",
   "metadata": {},
   "source": [
    "## 18. Buliding a Guessing Game"
   ]
  },
  {
   "cell_type": "code",
   "execution_count": 6,
   "metadata": {},
   "outputs": [
    {
     "name": "stdout",
     "output_type": "stream",
     "text": [
      "Enter Guess: korea\n",
      "Enter Guess: Korea\n",
      "You Win!\n"
     ]
    }
   ],
   "source": [
    "secret_word = \"Korea\"\n",
    "guess = \"\"\n",
    "guessCount = 0\n",
    "guessLimit = 3\n",
    "outOfGeusses = False\n",
    "\n",
    "while guess != secret_word and not(outOfGeusses):\n",
    "    if guessCount<guessLimit:\n",
    "        guess = input(\"Enter Guess: \")\n",
    "        guessCount +=1\n",
    "    else:\n",
    "        outOfGeusses = True\n",
    "    \n",
    "if not(outOfGeusses):\n",
    "    print(\"You Win!\")\n",
    "else:\n",
    "    print(\"You Lose!\")"
   ]
  },
  {
   "cell_type": "markdown",
   "metadata": {},
   "source": [
    "## 19. For Loop"
   ]
  },
  {
   "cell_type": "code",
   "execution_count": 8,
   "metadata": {},
   "outputs": [
    {
     "name": "stdout",
     "output_type": "stream",
     "text": [
      "K\n",
      "o\n",
      "r\n",
      "e\n",
      "a\n",
      " \n",
      "A\n",
      "c\n",
      "a\n",
      "d\n",
      "e\n",
      "m\n",
      "y\n",
      "Jim\n",
      "Karen\n",
      "Kevin\n"
     ]
    }
   ],
   "source": [
    "for letter in \"Korea Academy\":\n",
    "    print(letter)"
   ]
  },
  {
   "cell_type": "code",
   "execution_count": 9,
   "metadata": {},
   "outputs": [
    {
     "name": "stdout",
     "output_type": "stream",
     "text": [
      "Jim\n",
      "Karen\n",
      "Kevin\n",
      "0\n",
      "1\n",
      "2\n",
      "3\n",
      "4\n",
      "5\n",
      "6\n",
      "7\n",
      "8\n",
      "9\n"
     ]
    }
   ],
   "source": [
    "friends = [\"Jim\", \"Karen\", \"Kevin\"]\n",
    "for name in friends:\n",
    "    print(name)"
   ]
  },
  {
   "cell_type": "code",
   "execution_count": 11,
   "metadata": {},
   "outputs": [
    {
     "name": "stdout",
     "output_type": "stream",
     "text": [
      "0\n",
      "1\n",
      "2\n",
      "3\n",
      "4\n",
      "5\n",
      "6\n",
      "7\n",
      "8\n",
      "9\n"
     ]
    }
   ],
   "source": [
    "for index in range(10): #0~9\n",
    "    print(index)"
   ]
  },
  {
   "cell_type": "code",
   "execution_count": 13,
   "metadata": {},
   "outputs": [
    {
     "name": "stdout",
     "output_type": "stream",
     "text": [
      "3\n",
      "4\n",
      "5\n",
      "6\n",
      "7\n",
      "8\n",
      "9\n"
     ]
    }
   ],
   "source": [
    "for index in range(3, 10): #3~9\n",
    "    print(index)"
   ]
  },
  {
   "cell_type": "code",
   "execution_count": 15,
   "metadata": {},
   "outputs": [
    {
     "name": "stdout",
     "output_type": "stream",
     "text": [
      "Jim\n",
      "Karen\n",
      "Kevin\n"
     ]
    }
   ],
   "source": [
    "friends = [\"Jim\", \"Karen\", \"Kevin\"] # return numbers\n",
    "for index in range(len(friends)):\n",
    "    print(friends[index])"
   ]
  },
  {
   "cell_type": "code",
   "execution_count": 17,
   "metadata": {},
   "outputs": [
    {
     "name": "stdout",
     "output_type": "stream",
     "text": [
      "First Iteration\n",
      "Not first\n",
      "Not first\n",
      "Not first\n",
      "Not first\n"
     ]
    }
   ],
   "source": [
    "for index in range(5):\n",
    "    if index == 0:\n",
    "        print(\"First Iteration\")\n",
    "    else:\n",
    "        print(\"Not first\")"
   ]
  },
  {
   "cell_type": "markdown",
   "metadata": {},
   "source": [
    "## 20. Exponent Function"
   ]
  },
  {
   "cell_type": "code",
   "execution_count": 19,
   "metadata": {},
   "outputs": [
    {
     "name": "stdout",
     "output_type": "stream",
     "text": [
      "8\n"
     ]
    }
   ],
   "source": [
    "print(2**3) #2^3"
   ]
  },
  {
   "cell_type": "code",
   "execution_count": 21,
   "metadata": {},
   "outputs": [
    {
     "name": "stdout",
     "output_type": "stream",
     "text": [
      "1024\n"
     ]
    }
   ],
   "source": [
    "def raise_to_power (base_num, pow_num):\n",
    "    result = 1\n",
    "    for index in range(pow_num):\n",
    "        result *= base_num\n",
    "    return result\n",
    "\n",
    "print(raise_to_power(4, 5))"
   ]
  },
  {
   "cell_type": "markdown",
   "metadata": {},
   "source": [
    "## 21. 2D Lists & Nested Loops"
   ]
  },
  {
   "cell_type": "code",
   "execution_count": 26,
   "metadata": {},
   "outputs": [
    {
     "name": "stdout",
     "output_type": "stream",
     "text": [
      "1\n",
      "9\n",
      "[1, 2, 3]\n",
      "[4, 5, 6]\n",
      "[7, 8, 9]\n",
      "[0]\n",
      "1\n",
      "2\n",
      "3\n",
      "4\n",
      "5\n",
      "6\n",
      "7\n",
      "8\n",
      "9\n",
      "0\n"
     ]
    }
   ],
   "source": [
    "number_grid = [\n",
    "    [1,2,3],\n",
    "    [4,5,6],\n",
    "    [7,8,9],\n",
    "    [0]\n",
    "]\n",
    "\n",
    "print(number_grid[0][0])\n",
    "print(number_grid[2][2])\n",
    "\n",
    "for row in number_grid:\n",
    "    print(row)\n",
    "\n",
    "for row in number_grid:\n",
    "    for col in row:\n",
    "        print(col)"
   ]
  },
  {
   "cell_type": "markdown",
   "metadata": {},
   "source": [
    "## 22. Bulid a Translator"
   ]
  },
  {
   "cell_type": "code",
   "execution_count": 31,
   "metadata": {},
   "outputs": [
    {
     "name": "stdout",
     "output_type": "stream",
     "text": [
      "Gpplg\n"
     ]
    }
   ],
   "source": [
    "\"\"\"\n",
    "DaeSun Language\n",
    "\n",
    "\"vowels\" -> g\n",
    "\n",
    "ex)\n",
    "dog -> dgg\n",
    "cat -> cgt\n",
    "\"\"\"\n",
    "\n",
    "def translate (phrase):\n",
    "    translation = \"\"\n",
    "    for letter in phrase:\n",
    "        if letter.lower() in \"aeiou\": # same power as if letter in \"AEIOUaeiou\":\n",
    "            if letter.islower():\n",
    "                translation += 'g'\n",
    "            else:\n",
    "                translation += 'G'\n",
    "        else:\n",
    "            translation += letter\n",
    "    return translation\n",
    "\n",
    "print(translate(\"Apple\"))"
   ]
  },
  {
   "cell_type": "markdown",
   "metadata": {},
   "source": [
    "## 23. Coments"
   ]
  },
  {
   "cell_type": "code",
   "execution_count": 34,
   "metadata": {},
   "outputs": [
    {
     "data": {
      "text/plain": [
       "'\\n'"
      ]
     },
     "execution_count": 34,
     "metadata": {},
     "output_type": "execute_result"
    }
   ],
   "source": [
    "#\n",
    "'''\n",
    "'''"
   ]
  },
  {
   "cell_type": "markdown",
   "metadata": {},
   "source": [
    "## 24. Try/Except"
   ]
  },
  {
   "cell_type": "code",
   "execution_count": 42,
   "metadata": {},
   "outputs": [
    {
     "name": "stdout",
     "output_type": "stream",
     "text": [
      "you can not divide by zero\n",
      "division by zero\n"
     ]
    }
   ],
   "source": [
    "try:\n",
    "    value = 10/0\n",
    "    number  = int (input(\"Enter number: \"))\n",
    "    print(number)\n",
    "except ZeroDivisionError as err:\n",
    "    print(\"you can not divide by zero\")\n",
    "    print(err)\n",
    "except ValueError:\n",
    "     print(\"Invalid input\")"
   ]
  }
 ],
 "metadata": {
  "kernelspec": {
   "display_name": "Python 3",
   "language": "python",
   "name": "python3"
  },
  "language_info": {
   "codemirror_mode": {
    "name": "ipython",
    "version": 3
   },
   "file_extension": ".py",
   "mimetype": "text/x-python",
   "name": "python",
   "nbconvert_exporter": "python",
   "pygments_lexer": "ipython3",
   "version": "3.7.3"
  }
 },
 "nbformat": 4,
 "nbformat_minor": 2
}
